{
  "nbformat": 4,
  "nbformat_minor": 0,
  "metadata": {
    "colab": {
      "name": "Untitled0.ipynb",
      "version": "0.3.2",
      "provenance": [],
      "include_colab_link": true
    },
    "kernelspec": {
      "name": "python3",
      "display_name": "Python 3"
    }
  },
  "cells": [
    {
      "cell_type": "markdown",
      "metadata": {
        "id": "view-in-github",
        "colab_type": "text"
      },
      "source": [
        "<a href=\"https://colab.research.google.com/github/gilKag2/ML-ex4/blob/master/Untitled0.ipynb\" target=\"_parent\"><img src=\"https://colab.research.google.com/assets/colab-badge.svg\" alt=\"Open In Colab\"/></a>"
      ]
    },
    {
      "cell_type": "code",
      "metadata": {
        "id": "zfBuO96Hor90",
        "colab_type": "code",
        "colab": {}
      },
      "source": [
        "from __future__ import print_function\n",
        "\n",
        "from gcommand_loader import GCommandLoader\n",
        "import argparse\n",
        "import torch\n",
        "import torch.nn as nn\n",
        "import torch.nn.functional as F\n",
        "import torch.optim as optim\n",
        "from torchvision import datasets, transforms\n",
        "from torch.autograd import Variable"
      ],
      "execution_count": 0,
      "outputs": []
    },
    {
      "cell_type": "code",
      "metadata": {
        "id": "rwP3xE4HkZqn",
        "colab_type": "code",
        "colab": {}
      },
      "source": [
        "\n",
        "batch_size = 100\n",
        "\n",
        "\n",
        "train_dataset = GCommandLoader('./data/train')\n",
        "\n",
        "test_dataset = GCommandLoader('./data/test')\n",
        "\n",
        "\n",
        "\n",
        "valid_dataset = GCommandLoader('./data/valid')\n",
        "\n",
        "train_loader = torch.utils.data.DataLoader(\n",
        "        train_dataset, batch_size=batch_size, shuffle=True,\n",
        "        num_workers=20, pin_memory=True, sampler=None)\n",
        "\n",
        "valid_loader = torch.utils.data.DataLoader(\n",
        "        valid_dataset, batch_size=batch_size, shuffle=None,\n",
        "        num_workers=20, pin_memory=True, sampler=None)\n",
        "\n",
        "\n",
        "test_loader = torch.utils.data.DataLoader(\n",
        "        test_dataset, batch_size=batch_size, shuffle=None,\n",
        "        num_workers=20, pin_memory=True, sampler=None)\n"
      ],
      "execution_count": 0,
      "outputs": []
    },
    {
      "cell_type": "code",
      "metadata": {
        "id": "sPLcxlE4jPGK",
        "colab_type": "code",
        "colab": {}
      },
      "source": [
        "\n",
        "class Net(nn.Module):\n",
        "\n",
        "    def __init__(self):\n",
        "        super(Net, self).__init__()\n",
        "        self.conv1 = nn.Conv2d(1, 10, kernel_size=5)\n",
        "        self.conv2 = nn.Conv2d(10, 20, kernel_size=5)\n",
        "        self.mp = nn.MaxPool2d(2,2)\n",
        "        self.fc1 = nn.Linear(16280, 500)\n",
        "        self.fc2 = nn.Linear(500, 30)\n",
        "       \n",
        "\n",
        "    def forward(self, x):\n",
        "        in_size = x.size(0)\n",
        "        x = F.relu(self.mp(self.conv1(x)))\n",
        "        x = F.relu(self.mp(self.conv2(x)))\n",
        "        x = x.view(in_size, -1)  # flatten the tensor\n",
        "        x = F.relu(self.fc1(x))\n",
        "        x = self.fc2(x)\n",
        "        return F.log_softmax(x)\n"
      ],
      "execution_count": 0,
      "outputs": []
    },
    {
      "cell_type": "code",
      "metadata": {
        "id": "vLT1i_ODkJpX",
        "colab_type": "code",
        "colab": {}
      },
      "source": [
        "model = Net()\n",
        "optimizer = optim.SGD(model.parameters(), lr=0.05, momentum=0.5)\n",
        "\n",
        "\n",
        "def train(epoch):\n",
        "    model.train()\n",
        "    for batch_idx, (data, target) in enumerate(train_loader):\n",
        "        data, target = Variable(data), Variable(target)\n",
        "        optimizer.zero_grad()\n",
        "        output = model(data)\n",
        "        loss = F.nll_loss(output, target)\n",
        "        loss.backward()\n",
        "        optimizer.step()\n",
        "        if batch_idx % 10 == 0:         \n",
        "            print('Train Epoch: {} [{}/{} ({:.0f}%)]\\tLoss: {:.6f}'.format(\n",
        "                epoch, batch_idx * len(data), len(train_loader.dataset),\n",
        "                100. * batch_idx / len(train_loader), loss.data.cpu()))"
      ],
      "execution_count": 0,
      "outputs": []
    },
    {
      "cell_type": "code",
      "metadata": {
        "id": "KCM0nWKQrwxP",
        "colab_type": "code",
        "colab": {}
      },
      "source": [
        "def test():\n",
        "    model.eval()\n",
        "    test_loss = 0\n",
        "    correct = 0\n",
        "    for data, target in test_loader:\n",
        "        data, target = Variable(data, volatile=True), Variable(target)\n",
        "        output = model(data)\n",
        "        # sum up batch loss\n",
        "        test_loss += F.nll_loss(output, target, size_average=False).data\n",
        "        # get the index of the max log-probability\n",
        "        pred = output.data.max(1, keepdim=True)[1]\n",
        "        correct += pred.eq(target.data.view_as(pred)).cpu().sum()\n",
        "\n",
        "    test_loss /= len(test_loader.dataset)\n",
        "    print('\\nTest set: Average loss: {:.4f}, Accuracy: {}/{} ({:.0f}%)\\n'.format(\n",
        "        test_loss, correct, len(test_loader.dataset),\n",
        "        100. * correct / len(test_loader.dataset)))\n"
      ],
      "execution_count": 0,
      "outputs": []
    },
    {
      "cell_type": "code",
      "metadata": {
        "id": "_qgMyDLDr2HE",
        "colab_type": "code",
        "colab": {
          "base_uri": "https://localhost:8080/",
          "height": 1000
        },
        "outputId": "9a95364d-f1d7-43f6-b1a3-c9c99d982759"
      },
      "source": [
        "for epoch in range(1, 5):\n",
        "    train(epoch)\n",
        "    test()\n"
      ],
      "execution_count": 124,
      "outputs": [
        {
          "output_type": "stream",
          "text": [
            "/usr/local/lib/python3.6/dist-packages/ipykernel_launcher.py:20: UserWarning: Implicit dimension choice for log_softmax has been deprecated. Change the call to include dim=X as an argument.\n"
          ],
          "name": "stderr"
        },
        {
          "output_type": "stream",
          "text": [
            "Train Epoch: 1 [0/30000 (0%)]\tLoss: 3.406085\n",
            "Train Epoch: 1 [1000/30000 (3%)]\tLoss: 3.229391\n",
            "Train Epoch: 1 [2000/30000 (7%)]\tLoss: 2.944528\n",
            "Train Epoch: 1 [3000/30000 (10%)]\tLoss: 2.393383\n",
            "Train Epoch: 1 [4000/30000 (13%)]\tLoss: 2.437828\n",
            "Train Epoch: 1 [5000/30000 (17%)]\tLoss: 2.171594\n",
            "Train Epoch: 1 [6000/30000 (20%)]\tLoss: 2.263499\n",
            "Train Epoch: 1 [7000/30000 (23%)]\tLoss: 1.911657\n",
            "Train Epoch: 1 [8000/30000 (27%)]\tLoss: 1.942193\n",
            "Train Epoch: 1 [9000/30000 (30%)]\tLoss: 1.707934\n",
            "Train Epoch: 1 [10000/30000 (33%)]\tLoss: 1.708356\n",
            "Train Epoch: 1 [11000/30000 (37%)]\tLoss: 1.428927\n",
            "Train Epoch: 1 [12000/30000 (40%)]\tLoss: 1.570964\n",
            "Train Epoch: 1 [13000/30000 (43%)]\tLoss: 1.479795\n",
            "Train Epoch: 1 [14000/30000 (47%)]\tLoss: 1.906408\n",
            "Train Epoch: 1 [15000/30000 (50%)]\tLoss: 1.000005\n",
            "Train Epoch: 1 [16000/30000 (53%)]\tLoss: 1.308221\n",
            "Train Epoch: 1 [17000/30000 (57%)]\tLoss: 1.303805\n",
            "Train Epoch: 1 [18000/30000 (60%)]\tLoss: 1.009238\n",
            "Train Epoch: 1 [19000/30000 (63%)]\tLoss: 1.028877\n",
            "Train Epoch: 1 [20000/30000 (67%)]\tLoss: 0.940225\n",
            "Train Epoch: 1 [21000/30000 (70%)]\tLoss: 0.890585\n",
            "Train Epoch: 1 [22000/30000 (73%)]\tLoss: 0.822587\n",
            "Train Epoch: 1 [23000/30000 (77%)]\tLoss: 0.867810\n",
            "Train Epoch: 1 [24000/30000 (80%)]\tLoss: 0.882091\n",
            "Train Epoch: 1 [25000/30000 (83%)]\tLoss: 0.953443\n",
            "Train Epoch: 1 [26000/30000 (87%)]\tLoss: 0.649322\n",
            "Train Epoch: 1 [27000/30000 (90%)]\tLoss: 0.826401\n",
            "Train Epoch: 1 [28000/30000 (93%)]\tLoss: 0.857497\n",
            "Train Epoch: 1 [29000/30000 (97%)]\tLoss: 1.007849\n"
          ],
          "name": "stdout"
        },
        {
          "output_type": "stream",
          "text": [
            "/usr/local/lib/python3.6/dist-packages/ipykernel_launcher.py:6: UserWarning: volatile was removed and now has no effect. Use `with torch.no_grad():` instead.\n",
            "  \n",
            "/usr/local/lib/python3.6/dist-packages/torch/nn/_reduction.py:46: UserWarning: size_average and reduce args will be deprecated, please use reduction='sum' instead.\n",
            "  warnings.warn(warning.format(ret))\n"
          ],
          "name": "stderr"
        },
        {
          "output_type": "stream",
          "text": [
            "\n",
            "Test set: Average loss: 8.4686, Accuracy: 167/6835 (2%)\n",
            "\n",
            "Train Epoch: 2 [0/30000 (0%)]\tLoss: 0.731050\n",
            "Train Epoch: 2 [1000/30000 (3%)]\tLoss: 0.305695\n",
            "Train Epoch: 2 [2000/30000 (7%)]\tLoss: 0.643817\n",
            "Train Epoch: 2 [3000/30000 (10%)]\tLoss: 0.719806\n",
            "Train Epoch: 2 [4000/30000 (13%)]\tLoss: 0.663912\n",
            "Train Epoch: 2 [5000/30000 (17%)]\tLoss: 0.697653\n",
            "Train Epoch: 2 [6000/30000 (20%)]\tLoss: 0.549962\n",
            "Train Epoch: 2 [7000/30000 (23%)]\tLoss: 0.413798\n",
            "Train Epoch: 2 [8000/30000 (27%)]\tLoss: 0.590887\n",
            "Train Epoch: 2 [9000/30000 (30%)]\tLoss: 0.371687\n",
            "Train Epoch: 2 [10000/30000 (33%)]\tLoss: 0.634783\n",
            "Train Epoch: 2 [11000/30000 (37%)]\tLoss: 0.812645\n",
            "Train Epoch: 2 [12000/30000 (40%)]\tLoss: 0.544812\n",
            "Train Epoch: 2 [13000/30000 (43%)]\tLoss: 0.408356\n",
            "Train Epoch: 2 [14000/30000 (47%)]\tLoss: 0.284078\n",
            "Train Epoch: 2 [15000/30000 (50%)]\tLoss: 0.481869\n",
            "Train Epoch: 2 [16000/30000 (53%)]\tLoss: 0.571669\n",
            "Train Epoch: 2 [17000/30000 (57%)]\tLoss: 0.269855\n",
            "Train Epoch: 2 [18000/30000 (60%)]\tLoss: 0.418228\n",
            "Train Epoch: 2 [19000/30000 (63%)]\tLoss: 0.457217\n",
            "Train Epoch: 2 [20000/30000 (67%)]\tLoss: 0.491127\n",
            "Train Epoch: 2 [21000/30000 (70%)]\tLoss: 0.309515\n",
            "Train Epoch: 2 [22000/30000 (73%)]\tLoss: 0.520433\n",
            "Train Epoch: 2 [23000/30000 (77%)]\tLoss: 0.414870\n",
            "Train Epoch: 2 [24000/30000 (80%)]\tLoss: 0.639462\n",
            "Train Epoch: 2 [25000/30000 (83%)]\tLoss: 0.434329\n",
            "Train Epoch: 2 [26000/30000 (87%)]\tLoss: 0.464230\n",
            "Train Epoch: 2 [27000/30000 (90%)]\tLoss: 0.442266\n",
            "Train Epoch: 2 [28000/30000 (93%)]\tLoss: 0.291445\n",
            "Train Epoch: 2 [29000/30000 (97%)]\tLoss: 0.604137\n",
            "\n",
            "Test set: Average loss: 10.5736, Accuracy: 237/6835 (3%)\n",
            "\n",
            "Train Epoch: 3 [0/30000 (0%)]\tLoss: 0.308633\n",
            "Train Epoch: 3 [1000/30000 (3%)]\tLoss: 0.283644\n",
            "Train Epoch: 3 [2000/30000 (7%)]\tLoss: 0.237377\n",
            "Train Epoch: 3 [3000/30000 (10%)]\tLoss: 0.279593\n",
            "Train Epoch: 3 [4000/30000 (13%)]\tLoss: 0.457417\n",
            "Train Epoch: 3 [5000/30000 (17%)]\tLoss: 0.303119\n",
            "Train Epoch: 3 [6000/30000 (20%)]\tLoss: 0.241484\n",
            "Train Epoch: 3 [7000/30000 (23%)]\tLoss: 0.110928\n",
            "Train Epoch: 3 [8000/30000 (27%)]\tLoss: 0.254691\n",
            "Train Epoch: 3 [9000/30000 (30%)]\tLoss: 0.392628\n",
            "Train Epoch: 3 [10000/30000 (33%)]\tLoss: 0.237299\n",
            "Train Epoch: 3 [11000/30000 (37%)]\tLoss: 0.210910\n",
            "Train Epoch: 3 [12000/30000 (40%)]\tLoss: 0.177797\n",
            "Train Epoch: 3 [13000/30000 (43%)]\tLoss: 0.411337\n",
            "Train Epoch: 3 [14000/30000 (47%)]\tLoss: 0.319402\n",
            "Train Epoch: 3 [15000/30000 (50%)]\tLoss: 0.288363\n",
            "Train Epoch: 3 [16000/30000 (53%)]\tLoss: 0.307776\n",
            "Train Epoch: 3 [17000/30000 (57%)]\tLoss: 0.225980\n",
            "Train Epoch: 3 [18000/30000 (60%)]\tLoss: 0.126188\n",
            "Train Epoch: 3 [19000/30000 (63%)]\tLoss: 0.359374\n",
            "Train Epoch: 3 [20000/30000 (67%)]\tLoss: 0.269627\n",
            "Train Epoch: 3 [21000/30000 (70%)]\tLoss: 0.393310\n",
            "Train Epoch: 3 [22000/30000 (73%)]\tLoss: 0.245088\n",
            "Train Epoch: 3 [23000/30000 (77%)]\tLoss: 0.229535\n",
            "Train Epoch: 3 [24000/30000 (80%)]\tLoss: 0.185421\n",
            "Train Epoch: 3 [25000/30000 (83%)]\tLoss: 0.392099\n",
            "Train Epoch: 3 [26000/30000 (87%)]\tLoss: 0.202260\n",
            "Train Epoch: 3 [27000/30000 (90%)]\tLoss: 0.382600\n",
            "Train Epoch: 3 [28000/30000 (93%)]\tLoss: 0.245432\n",
            "Train Epoch: 3 [29000/30000 (97%)]\tLoss: 0.381846\n",
            "\n",
            "Test set: Average loss: 14.7194, Accuracy: 183/6835 (2%)\n",
            "\n",
            "Train Epoch: 4 [0/30000 (0%)]\tLoss: 0.306830\n",
            "Train Epoch: 4 [1000/30000 (3%)]\tLoss: 0.105213\n",
            "Train Epoch: 4 [2000/30000 (7%)]\tLoss: 0.196435\n",
            "Train Epoch: 4 [3000/30000 (10%)]\tLoss: 0.176268\n",
            "Train Epoch: 4 [4000/30000 (13%)]\tLoss: 0.089983\n",
            "Train Epoch: 4 [5000/30000 (17%)]\tLoss: 0.099615\n",
            "Train Epoch: 4 [6000/30000 (20%)]\tLoss: 0.247134\n",
            "Train Epoch: 4 [7000/30000 (23%)]\tLoss: 0.097215\n",
            "Train Epoch: 4 [8000/30000 (27%)]\tLoss: 0.079924\n",
            "Train Epoch: 4 [9000/30000 (30%)]\tLoss: 0.142905\n",
            "Train Epoch: 4 [10000/30000 (33%)]\tLoss: 0.177546\n",
            "Train Epoch: 4 [11000/30000 (37%)]\tLoss: 0.089541\n",
            "Train Epoch: 4 [12000/30000 (40%)]\tLoss: 0.176020\n",
            "Train Epoch: 4 [13000/30000 (43%)]\tLoss: 0.108936\n",
            "Train Epoch: 4 [14000/30000 (47%)]\tLoss: 0.216375\n",
            "Train Epoch: 4 [15000/30000 (50%)]\tLoss: 0.110812\n",
            "Train Epoch: 4 [16000/30000 (53%)]\tLoss: 0.189313\n",
            "Train Epoch: 4 [17000/30000 (57%)]\tLoss: 0.115243\n",
            "Train Epoch: 4 [18000/30000 (60%)]\tLoss: 0.082891\n",
            "Train Epoch: 4 [19000/30000 (63%)]\tLoss: 0.302661\n",
            "Train Epoch: 4 [20000/30000 (67%)]\tLoss: 0.197736\n",
            "Train Epoch: 4 [21000/30000 (70%)]\tLoss: 0.092431\n",
            "Train Epoch: 4 [22000/30000 (73%)]\tLoss: 0.192649\n",
            "Train Epoch: 4 [23000/30000 (77%)]\tLoss: 0.164058\n",
            "Train Epoch: 4 [24000/30000 (80%)]\tLoss: 0.369693\n",
            "Train Epoch: 4 [25000/30000 (83%)]\tLoss: 0.086007\n",
            "Train Epoch: 4 [26000/30000 (87%)]\tLoss: 0.143283\n",
            "Train Epoch: 4 [27000/30000 (90%)]\tLoss: 0.157253\n",
            "Train Epoch: 4 [28000/30000 (93%)]\tLoss: 0.234706\n",
            "Train Epoch: 4 [29000/30000 (97%)]\tLoss: 0.183691\n",
            "\n",
            "Test set: Average loss: 15.2890, Accuracy: 232/6835 (3%)\n",
            "\n"
          ],
          "name": "stdout"
        }
      ]
    }
  ]
}